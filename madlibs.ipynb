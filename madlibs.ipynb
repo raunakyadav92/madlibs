{
  "nbformat": 4,
  "nbformat_minor": 0,
  "metadata": {
    "colab": {
      "provenance": [],
      "authorship_tag": "ABX9TyNQbmaWHITv8dTvtYVucNLu",
      "include_colab_link": true
    },
    "kernelspec": {
      "name": "python3",
      "display_name": "Python 3"
    },
    "language_info": {
      "name": "python"
    }
  },
  "cells": [
    {
      "cell_type": "markdown",
      "metadata": {
        "id": "view-in-github",
        "colab_type": "text"
      },
      "source": [
        "<a href=\"https://colab.research.google.com/github/raunakyadav92/madlibs/blob/main/madlibs.ipynb\" target=\"_parent\"><img src=\"https://colab.research.google.com/assets/colab-badge.svg\" alt=\"Open In Colab\"/></a>"
      ]
    },
    {
      "cell_type": "code",
      "execution_count": 1,
      "metadata": {
        "colab": {
          "base_uri": "https://localhost:8080/"
        },
        "id": "kwvQkYcNQUve",
        "outputId": "9719abe4-1a76-4660-ad3b-5d0b65d099b8"
      },
      "outputs": [
        {
          "output_type": "stream",
          "name": "stdout",
          "text": [
            "\n",
            "📝 Welcome to the Mad Libs Game! 📝\n",
            "\n",
            "Enter a name: Raunak\n",
            "Enter a place: garden\n",
            "Enter an animal: dog\n",
            "Enter an emotion: happy\n",
            "Enter an activity: dancing\n",
            "\n",
            "🎉 Here is your Mad Lib Story:\n",
            "\n",
            "\n",
            "One day, Raunak went to garden with a dog.\n",
            "They were feeling very happy!\n",
            "So they decided to dancing all day.\n",
            "It was the best day ever!\n",
            "\n"
          ]
        }
      ],
      "source": [
        "print(\"\\n📝 Welcome to the Mad Libs Game! 📝\\n\")\n",
        "\n",
        "# Taking inputs from the user\n",
        "name = input(\"Enter a name: \")\n",
        "place = input(\"Enter a place: \")\n",
        "animal = input(\"Enter an animal: \")\n",
        "emotion = input(\"Enter an emotion: \")\n",
        "activity = input(\"Enter an activity: \")\n",
        "\n",
        "# The story template\n",
        "story = f\"\"\"\n",
        "One day, {name} went to {place} with a {animal}.\n",
        "They were feeling very {emotion}!\n",
        "So they decided to {activity} all day.\n",
        "It was the best day ever!\n",
        "\"\"\"\n",
        "\n",
        "print(\"\\n🎉 Here is your Mad Lib Story:\\n\")\n",
        "print(story)\n"
      ]
    }
  ]
}